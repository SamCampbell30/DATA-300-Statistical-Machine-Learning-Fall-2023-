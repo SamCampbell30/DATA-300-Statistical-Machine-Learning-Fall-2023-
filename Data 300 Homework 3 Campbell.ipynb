{
 "cells": [
  {
   "cell_type": "code",
   "execution_count": 1,
   "metadata": {},
   "outputs": [],
   "source": [
    "## written portion ##"
   ]
  },
  {
   "cell_type": "markdown",
   "metadata": {},
   "source": [
    "Write down any 3 time series models that can be used for forecasting. (3 points)\n",
    "\n",
    "ARIMA – Autoregressive Integrated Moving Average \n",
    "MA – Moving Average Models\n",
    "AR - Autoregression Models\n",
    "\n",
    "What are some real-world applications of time series forecasting? Name two. (2 points)\n",
    "\n",
    "Businesses use sales data from previous sales over time to predict future sales\n",
    "\n",
    "Weather data , previous temperatures, storm movements are used to forcast future weather.\n",
    "\n",
    "What is the difference between a time series and a panel data set? (2 points)\n",
    "\n",
    "Time series is one variable is one varbale observed over a certain time frame while panel data is multiple variables over a given time frame.\n",
    "\n",
    "What is the major difference in how we select training sets in time series machine learning tasks compared to regression/classification tasks? (2 marks)\n",
    "\n",
    "In time series training sets, the order matters. Chronological data is esential while in regression/classification tasks the time order shouldn't matter in the training set, the results shouldn't change because the data shouldn't vary over time.\n",
    "\n",
    "Define the following terms as relates to time series models:\n",
    "\n",
    "Stationarity (1 point)\n",
    "When a time series of data has no long-term predictable patterns\n",
    "\n",
    "Differencing (1 point)\n",
    "stabilizing the variance of non stationary data. This operation calculates the change between error terms over consecutive time points.\n",
    "\n",
    "what is White noise? (1 point)\n",
    "When a series of data are distributed the same with a constant variance and mean of 0.\n",
    "\n",
    "Random Walk (1 point)\n",
    "An attempt to model time series data by creating random \"steps\" or jumps in the data over time as a way to predict changes over different intervals.\n",
    "\n",
    "(5 points)\n",
    "This is a generalized ARMA model The intercepts are as followed:\n",
    "c is the constant\n",
    "Epsilon Is the white noise\n",
    "the Phi Is the coefficient for the auto-regression polynomial AR(1),AR(2),AR(3)\n",
    "Theta is the coefficient for the moving average polynomial MA(1), MA(2), MA(3), MA(4)\n",
    "Epsilon_t - 1 is the step or lags in the model for the MA portion of the ARMA.\n",
    "\n",
    "Can you tell from the above equation whether the time series has been differenced?\n",
    "Explain why or why not. (1 point)\n",
    "\n",
    "From the Epsilon_t - 1 it looks like the time series has been differenced. I don't know how you could provide lags or an order if the time series were not differenced.\n",
    "\n",
    "What is the Autoregressive (AR) order in the above equation? How about the Moving\n",
    "Average (MA) order (2 points)\n",
    "\n",
    "The AR order is AR(3),AR(2),AR(2), from the number above the summation (3) and t-1 denotion.\n",
    "The MA order MA(4), MA(3), MA(2), MA(1) from the number above the summation (4) and t-1 denotion.\n",
    "\n",
    "How do you determine the AR and MA order? How do you know how many lags to\n",
    "include in your model? (2 points)\n",
    "\n",
    "You determine the AR and MA order from the ACF and PACF plots of the differenced time series data. You look at the plots and chose the first significant bar, and any subsequent bar that's significant until a bar becomes insignificant.\n",
    "\n",
    "\n",
    "\n",
    "\n",
    "\n",
    "\n",
    "\n",
    "\n",
    "\n",
    "\n",
    "\n",
    "\n"
   ]
  },
  {
   "cell_type": "code",
   "execution_count": 2,
   "metadata": {},
   "outputs": [],
   "source": [
    "import pandas as pd # v 1.5.3\n",
    "import numpy as np # v 1.21.5\n",
    "import statsmodels.api as sm # v 0.13.5\n",
    "import pmdarima as pm #\n",
    "\n",
    "import matplotlib.pyplot as plt # 3.6.3\n",
    "\n",
    "import warnings as ww\n",
    "import statsmodels.tsa.stattools as stattools  # v 0.13.5\n",
    "\n",
    "from statsmodels.tsa.stattools import adfuller # v 0.13.5\n",
    "from statsmodels.graphics.tsaplots import plot_acf, plot_pacf # v 0.13.5\n",
    "from statsmodels.tsa.arima_model import ARIMA # v 0.13.5\n",
    "\n",
    "from sklearn.metrics import mean_absolute_error\n",
    "from sklearn.metrics import mean_squared_error\n"
   ]
  },
  {
   "cell_type": "code",
   "execution_count": 3,
   "metadata": {},
   "outputs": [],
   "source": [
    "df = pd.read_csv('/Users/samcampbell/Downloads/Electric_Production.csv')"
   ]
  },
  {
   "cell_type": "code",
   "execution_count": 4,
   "metadata": {},
   "outputs": [],
   "source": [
    "### Below is some exploratory analysis ###"
   ]
  },
  {
   "cell_type": "code",
   "execution_count": 5,
   "metadata": {},
   "outputs": [
    {
     "data": {
      "text/plain": [
       "((397, 2),\n",
       " Index(['DATE', 'IPG2211A2N'], dtype='object'),\n",
       " DATE           object\n",
       " IPG2211A2N    float64\n",
       " dtype: object)"
      ]
     },
     "execution_count": 5,
     "metadata": {},
     "output_type": "execute_result"
    }
   ],
   "source": [
    "df.shape, df.columns, df.dtypes\n",
    "\n",
    "## It looks like the date variable is an object, so I'll have to turn it into date type ##"
   ]
  },
  {
   "cell_type": "code",
   "execution_count": 6,
   "metadata": {
    "scrolled": true
   },
   "outputs": [
    {
     "data": {
      "text/plain": [
       "(       DATE  IPG2211A2N\n",
       " 0  1/1/1985     72.5052\n",
       " 1  2/1/1985     70.6720\n",
       " 2  3/1/1985     62.4502\n",
       " 3  4/1/1985     57.4714\n",
       " 4  5/1/1985     55.3151,\n",
       "           DATE  IPG2211A2N\n",
       " 392   9/1/2017     98.6154\n",
       " 393  10/1/2017     93.6137\n",
       " 394  11/1/2017     97.3359\n",
       " 395  12/1/2017    114.7212\n",
       " 396   1/1/2018    129.4048)"
      ]
     },
     "execution_count": 6,
     "metadata": {},
     "output_type": "execute_result"
    }
   ],
   "source": [
    "df.head(),df.tail()"
   ]
  },
  {
   "cell_type": "code",
   "execution_count": 7,
   "metadata": {},
   "outputs": [
    {
     "data": {
      "text/plain": [
       "DATE          0\n",
       "IPG2211A2N    0\n",
       "dtype: int64"
      ]
     },
     "execution_count": 7,
     "metadata": {},
     "output_type": "execute_result"
    }
   ],
   "source": [
    "df.isna().sum() "
   ]
  },
  {
   "cell_type": "code",
   "execution_count": 8,
   "metadata": {},
   "outputs": [
    {
     "data": {
      "text/html": [
       "<div>\n",
       "<style scoped>\n",
       "    .dataframe tbody tr th:only-of-type {\n",
       "        vertical-align: middle;\n",
       "    }\n",
       "\n",
       "    .dataframe tbody tr th {\n",
       "        vertical-align: top;\n",
       "    }\n",
       "\n",
       "    .dataframe thead th {\n",
       "        text-align: right;\n",
       "    }\n",
       "</style>\n",
       "<table border=\"1\" class=\"dataframe\">\n",
       "  <thead>\n",
       "    <tr style=\"text-align: right;\">\n",
       "      <th></th>\n",
       "      <th>IPG2211A2N</th>\n",
       "    </tr>\n",
       "  </thead>\n",
       "  <tbody>\n",
       "    <tr>\n",
       "      <th>count</th>\n",
       "      <td>397.000000</td>\n",
       "    </tr>\n",
       "    <tr>\n",
       "      <th>mean</th>\n",
       "      <td>88.847218</td>\n",
       "    </tr>\n",
       "    <tr>\n",
       "      <th>std</th>\n",
       "      <td>15.387834</td>\n",
       "    </tr>\n",
       "    <tr>\n",
       "      <th>min</th>\n",
       "      <td>55.315100</td>\n",
       "    </tr>\n",
       "    <tr>\n",
       "      <th>25%</th>\n",
       "      <td>77.105200</td>\n",
       "    </tr>\n",
       "    <tr>\n",
       "      <th>50%</th>\n",
       "      <td>89.779500</td>\n",
       "    </tr>\n",
       "    <tr>\n",
       "      <th>75%</th>\n",
       "      <td>100.524400</td>\n",
       "    </tr>\n",
       "    <tr>\n",
       "      <th>max</th>\n",
       "      <td>129.404800</td>\n",
       "    </tr>\n",
       "  </tbody>\n",
       "</table>\n",
       "</div>"
      ],
      "text/plain": [
       "       IPG2211A2N\n",
       "count  397.000000\n",
       "mean    88.847218\n",
       "std     15.387834\n",
       "min     55.315100\n",
       "25%     77.105200\n",
       "50%     89.779500\n",
       "75%    100.524400\n",
       "max    129.404800"
      ]
     },
     "execution_count": 8,
     "metadata": {},
     "output_type": "execute_result"
    }
   ],
   "source": [
    "df.describe()"
   ]
  },
  {
   "cell_type": "code",
   "execution_count": 9,
   "metadata": {},
   "outputs": [],
   "source": [
    "df['DATE'] = pd.to_datetime(df['DATE'])"
   ]
  },
  {
   "cell_type": "code",
   "execution_count": 10,
   "metadata": {},
   "outputs": [
    {
     "data": {
      "text/plain": [
       "DATE          datetime64[ns]\n",
       "IPG2211A2N           float64\n",
       "dtype: object"
      ]
     },
     "execution_count": 10,
     "metadata": {},
     "output_type": "execute_result"
    }
   ],
   "source": [
    "df.dtypes # changed date from an object to datetime"
   ]
  },
  {
   "cell_type": "code",
   "execution_count": 11,
   "metadata": {},
   "outputs": [],
   "source": [
    "df = df.sort_values('DATE') ## Sorting the values by date"
   ]
  },
  {
   "cell_type": "code",
   "execution_count": 12,
   "metadata": {
    "scrolled": true
   },
   "outputs": [
    {
     "data": {
      "text/plain": [
       "(        DATE  IPG2211A2N\n",
       " 0 1985-01-01     72.5052\n",
       " 1 1985-02-01     70.6720\n",
       " 2 1985-03-01     62.4502\n",
       " 3 1985-04-01     57.4714\n",
       " 4 1985-05-01     55.3151,\n",
       "           DATE  IPG2211A2N\n",
       " 392 2017-09-01     98.6154\n",
       " 393 2017-10-01     93.6137\n",
       " 394 2017-11-01     97.3359\n",
       " 395 2017-12-01    114.7212\n",
       " 396 2018-01-01    129.4048)"
      ]
     },
     "execution_count": 12,
     "metadata": {},
     "output_type": "execute_result"
    }
   ],
   "source": [
    "df.head(),df.tail()"
   ]
  },
  {
   "cell_type": "code",
   "execution_count": 13,
   "metadata": {},
   "outputs": [],
   "source": [
    "## besides the data type for DATE not a lot stood out from my EDA, there aren't missing vals\n",
    "## or anything that jumped out at me like that."
   ]
  },
  {
   "cell_type": "code",
   "execution_count": 14,
   "metadata": {},
   "outputs": [
    {
     "name": "stdout",
     "output_type": "stream",
     "text": [
      "The p-value of the Dickey-Fuller test is: 0.18621469116586759\n",
      "The test statistic of the Dickey-Fuller test is: -2.2569903500472455\n",
      "The p-value of the KPSS test is: 0.01\n",
      "The test statistic of the KPSS test is: 0.5051030832418743\n"
     ]
    },
    {
     "name": "stderr",
     "output_type": "stream",
     "text": [
      "/opt/anaconda3/lib/python3.7/site-packages/statsmodels/tsa/stattools.py:2019: InterpolationWarning: The test statistic is outside of the range of p-values available in the\n",
      "look-up table. The actual p-value is smaller than the p-value returned.\n",
      "\n",
      "  warn_msg.format(direction=\"smaller\"), InterpolationWarning\n"
     ]
    }
   ],
   "source": [
    "adf_test = sm.tsa.stattools.adfuller(df['IPG2211A2N'])\n",
    "\n",
    "print('The p-value of the Dickey-Fuller test is:', adf_test[1])\n",
    "\n",
    "print('The test statistic of the Dickey-Fuller test is:', adf_test[0])\n",
    "\n",
    "kpss = stattools.kpss(df['IPG2211A2N'], regression='ct')\n",
    "\n",
    "print('The p-value of the KPSS test is:', kpss[1])\n",
    "\n",
    "print('The test statistic of the KPSS test is:', kpss[0])\n",
    "\n",
    "\n",
    "### The p-values and test statistics from our Dickey Fuller and KPSS tests indicate that our -\n",
    "### data is in fact non stationary so we need to difference it.\n"
   ]
  },
  {
   "cell_type": "code",
   "execution_count": 15,
   "metadata": {},
   "outputs": [
    {
     "ename": "NameError",
     "evalue": "name 'i' is not defined",
     "output_type": "error",
     "traceback": [
      "\u001b[0;31m---------------------------------------------------------------------------\u001b[0m",
      "\u001b[0;31mNameError\u001b[0m                                 Traceback (most recent call last)",
      "\u001b[0;32m<ipython-input-15-71fb03204fca>\u001b[0m in \u001b[0;36m<module>\u001b[0;34m\u001b[0m\n\u001b[1;32m      1\u001b[0m \u001b[0;31m# undifferenced\u001b[0m\u001b[0;34m\u001b[0m\u001b[0;34m\u001b[0m\u001b[0;34m\u001b[0m\u001b[0m\n\u001b[0;32m----> 2\u001b[0;31m \u001b[0mdf\u001b[0m\u001b[0;34m[\u001b[0m\u001b[0;34m\"IPG2211A2N\"\u001b[0m\u001b[0;34m]\u001b[0m\u001b[0;34m.\u001b[0m\u001b[0mplot\u001b[0m\u001b[0;34m(\u001b[0m\u001b[0mfig\u001b[0m\u001b[0;34m=\u001b[0m\u001b[0mplt\u001b[0m\u001b[0;34m.\u001b[0m\u001b[0mfigure\u001b[0m\u001b[0;34m(\u001b[0m\u001b[0mi\u001b[0m\u001b[0;34m)\u001b[0m\u001b[0;34m)\u001b[0m\u001b[0;34m\u001b[0m\u001b[0;34m\u001b[0m\u001b[0m\n\u001b[0m\u001b[1;32m      3\u001b[0m \u001b[0mplt\u001b[0m\u001b[0;34m.\u001b[0m\u001b[0mtitle\u001b[0m\u001b[0;34m(\u001b[0m\u001b[0;34m\"IPG2211A2N\"\u001b[0m\u001b[0;34m)\u001b[0m\u001b[0;34m\u001b[0m\u001b[0;34m\u001b[0m\u001b[0m\n\u001b[1;32m      4\u001b[0m \u001b[0mplt\u001b[0m\u001b[0;34m.\u001b[0m\u001b[0mshow\u001b[0m\u001b[0;34m(\u001b[0m\u001b[0;34m)\u001b[0m\u001b[0;34m\u001b[0m\u001b[0;34m\u001b[0m\u001b[0m\n\u001b[1;32m      5\u001b[0m \u001b[0;34m\u001b[0m\u001b[0m\n",
      "\u001b[0;31mNameError\u001b[0m: name 'i' is not defined"
     ]
    }
   ],
   "source": [
    "# undifferenced\n",
    "df[\"IPG2211A2N\"].plot(fig=plt.figure(i))\n",
    "plt.title(\"IPG2211A2N\")\n",
    "plt.show() \n",
    "\n",
    "# The variance looks fairly high and the distribution looks skewed. This makes sense since-\n",
    "# our data is not stationary and this is the undifferenced plot."
   ]
  },
  {
   "cell_type": "code",
   "execution_count": null,
   "metadata": {},
   "outputs": [],
   "source": [
    "#differenced once\n",
    "df[\"IPG2211A2N\"].diff().plot(fig=plt.figure(i))\n",
    "plt.title(\"IPG2211A2N\")\n",
    "plt.show() \n",
    "\n",
    "# The variance and distribution look as if they will be tighter and more normal once-\n",
    "# differenced, as expected."
   ]
  },
  {
   "cell_type": "code",
   "execution_count": null,
   "metadata": {},
   "outputs": [],
   "source": [
    "# differenced twice\n",
    "df[\"IPG2211A2N\"].diff().diff().plot(fig=plt.figure(i))\n",
    "plt.title(\"IPG2211A2N\")\n",
    "plt.show() \n",
    "\n",
    "# Honestly this doesn't look much different than when I differenced the data once."
   ]
  },
  {
   "cell_type": "code",
   "execution_count": null,
   "metadata": {},
   "outputs": [],
   "source": [
    "## Here is a function for the ACF and PACF Plots ##\n",
    "def acf_pacf (series)-> plt.plot:\n",
    "    return plot_acf(series), plot_pacf(series)"
   ]
  },
  {
   "cell_type": "code",
   "execution_count": null,
   "metadata": {},
   "outputs": [],
   "source": [
    "## I'm differencing my data for the plots here ##\n",
    "acf_pacf(df['IPG2211A2N'].diff().tail(len(df)-1))\n",
    "    \n"
   ]
  },
  {
   "cell_type": "code",
   "execution_count": null,
   "metadata": {},
   "outputs": [],
   "source": [
    "## After running these plots and differencing the data it looks like the order for the ARMA/ARIMA\n",
    "## woukld be (4,1,24)"
   ]
  },
  {
   "cell_type": "code",
   "execution_count": null,
   "metadata": {},
   "outputs": [],
   "source": [
    "df['IPG2211A2N'] = df['IPG2211A2N'].diff() ## diferencing the data for the model ##"
   ]
  },
  {
   "cell_type": "code",
   "execution_count": null,
   "metadata": {},
   "outputs": [],
   "source": [
    "model = sm.tsa.arima.ARIMA(df['IPG2211A2N'].head(int(0.7*len(df))), order=(4, 1, 24))\n",
    "results = model.fit()"
   ]
  },
  {
   "cell_type": "code",
   "execution_count": null,
   "metadata": {},
   "outputs": [],
   "source": [
    "results.summary()"
   ]
  },
  {
   "cell_type": "code",
   "execution_count": null,
   "metadata": {},
   "outputs": [],
   "source": [
    "df['IPG2211A2N_forecast']=results.predict(start = int(0.7*len(df))+1, end=len(df) , dynamic=True)\n"
   ]
  },
  {
   "cell_type": "code",
   "execution_count": null,
   "metadata": {},
   "outputs": [],
   "source": [
    "df[['IPG2211A2N','IPG2211A2N_forecast']].plot(figsize=(10,6))\n"
   ]
  },
  {
   "cell_type": "code",
   "execution_count": null,
   "metadata": {},
   "outputs": [],
   "source": [
    "mean_absolute_error(df['IPG2211A2N_forecast'].tail(int(0.3*len(df))),df['IPG2211A2N'].tail(int(0.3*len(df))))\n"
   ]
  },
  {
   "cell_type": "code",
   "execution_count": null,
   "metadata": {},
   "outputs": [],
   "source": [
    "mean_squared_error(df['IPG2211A2N_forecast'].tail(int(0.3*len(df))),df['IPG2211A2N'].tail(int(0.3*len(df))))\n"
   ]
  },
  {
   "cell_type": "code",
   "execution_count": null,
   "metadata": {},
   "outputs": [],
   "source": [
    "## It's hard to interepet the mean errors for time series data like this relative to a universal-\n",
    "## rule, but going off of the chart of the predicted and original data, the fit looks pretty good.\n",
    "## some of the larger swings aren't accounted for so maybe differencing the data twice could help."
   ]
  }
 ],
 "metadata": {
  "kernelspec": {
   "display_name": "Python 3",
   "language": "python",
   "name": "python3"
  },
  "language_info": {
   "codemirror_mode": {
    "name": "ipython",
    "version": 3
   },
   "file_extension": ".py",
   "mimetype": "text/x-python",
   "name": "python",
   "nbconvert_exporter": "python",
   "pygments_lexer": "ipython3",
   "version": "3.7.6"
  }
 },
 "nbformat": 4,
 "nbformat_minor": 4
}
