{
 "cells": [
  {
   "cell_type": "code",
   "execution_count": null,
   "metadata": {},
   "outputs": [],
   "source": [
    "#### 55/55. Good job Sam. "
   ]
  },
  {
   "cell_type": "markdown",
   "metadata": {},
   "source": [
    "DATA 300: Statistical Machine Learning \n",
    "\n",
    "Due December 15th 11:59 EST \n",
    "\n",
    "Final (55 points) – Design choice and Time space complexity \n",
    "\n",
    "For this final, we will be fitting two classification models- Support Vector Machines (SVMs) and a Random Forest classifier on one dataset. We will tweak some parameters and compare the performance of models across parameters and how well they perform on the data. This is your chance to make some design choices on your models and how you work with data. Have fun with it! \n",
    "\n",
    "You can find the data here on the course website. A description of the dataset is available on the University of California Irvine(UCI) machine learning repository (here).  \n",
    "\n",
    "Do some EDA on the dataset and report your findings. (3 points) \n",
    "\n",
    "If the dataset is imbalanced, under sample the data before you proceed. Save this data separately. \n",
    "\n",
    "Split the data into a training and testing set. \n",
    "\n",
    "For part 1 below use the original data \n",
    "\n",
    "Part 1 \n",
    "\n",
    "Random Forest: \n",
    "\n",
    "Fit the model on the training set using the default parameters and report your findings.(5 points) \n",
    "\n",
    "Repeat 1 but change the parameters to different non-default parameters. Evaluate this model on your choice of metrics. Which model do you prefer? (5 points) \n",
    "\n",
    "Which model takes longer to fit? 1. Or 2.? Report the CPU time. (2 points) \n",
    "\n",
    "Based on your findings above which parameter combinations give you the best results for classification? Would you prefer “Gini” or “entropy” as your splitting metric? (5 points) \n",
    "\n",
    "Choose one of the models from number 1. Or number 2, display, and discuss the decision rules. Do the rules make sense for classification? (5 points) \n",
    "\n",
    "Which features are the most important for classification? (2 points) \n",
    "\n",
    "On average, what do you think is the tradeoff between model fitting time and model performance?  (3 points) \n",
    "\n",
    "Support Vector Machines: \n",
    "\n",
    "Fit the model on the training set using the default parameters and report your findings.(5 points) \n",
    "\n",
    "Change the kernel from “rbf” to “linear” and repeat the model fitting procedure in 1 above (5 point) \n",
    "\n",
    "Evaluate both models using any metrics of choice. (4 points) \n",
    "\n",
    "How long does it take to fit the SVM model in 1. above? How about 2. above? Report only the CPU times (1 point) \n",
    "\n",
    "Part 2- using the sampled data. \n",
    "\n",
    "Fit the Random Forest and the SVM on the undersampled data and compare the fitting times for both models? Which model takes longer to fit? (5 points) \n",
    "\n",
    "Compare the performance of both models on any metrics of choice. (5 points) \n"
   ]
  },
  {
   "cell_type": "code",
   "execution_count": 1,
   "metadata": {},
   "outputs": [],
   "source": [
    "import pandas as pd# v 1.5.3\n",
    "import numpy as np # v 1.21.5\n",
    "import sklearn as sk # v 1.3.2\n",
    "import matplotlib.pyplot as plt # 3.6.3\n",
    "import time\n",
    "from sklearn.tree import plot_tree # v 1.3.2\n",
    "from sklearn.tree import export_text # v 1.3.2\n",
    "from sklearn.svm import SVC # v 1.3.2\n",
    "\n",
    "\n",
    "from sklearn.model_selection import train_test_split # v 1.3.2\n",
    "\n",
    "from sklearn.ensemble import RandomForestClassifier # v 1.3.2\n",
    "from sklearn.metrics import accuracy_score, classification_report # v 1.3.2\n"
   ]
  },
  {
   "cell_type": "code",
   "execution_count": 2,
   "metadata": {},
   "outputs": [],
   "source": [
    "df = pd.read_csv('/Users/samcampbell/Downloads/company_bankruptcy_data.csv')"
   ]
  },
  {
   "cell_type": "code",
   "execution_count": 3,
   "metadata": {},
   "outputs": [
    {
     "data": {
      "text/plain": [
       "((6819, 96),\n",
       " Index(['Bankrupt', ' ROA(C) before interest and depreciation before interest',\n",
       "        ' ROA(A) before interest and % after tax',\n",
       "        ' ROA(B) before interest and depreciation after tax',\n",
       "        ' Operating Gross Margin', ' Realized Sales Gross Margin',\n",
       "        ' Operating Profit Rate', ' Pre-tax net Interest Rate',\n",
       "        ' After-tax net Interest Rate',\n",
       "        ' Non-industry income and expenditure/revenue',\n",
       "        ' Continuous interest rate (after tax)', ' Operating Expense Rate',\n",
       "        ' Research and development expense rate', ' Cash flow rate',\n",
       "        ' Interest-bearing debt interest rate', ' Tax rate (A)',\n",
       "        ' Net Value Per Share (B)', ' Net Value Per Share (A)',\n",
       "        ' Net Value Per Share (C)', ' Persistent EPS in the Last Four Seasons',\n",
       "        ' Cash Flow Per Share', ' Revenue Per Share (Yuan ¥)',\n",
       "        ' Operating Profit Per Share (Yuan ¥)',\n",
       "        ' Per Share Net profit before tax (Yuan ¥)',\n",
       "        ' Realized Sales Gross Profit Growth Rate',\n",
       "        ' Operating Profit Growth Rate', ' After-tax Net Profit Growth Rate',\n",
       "        ' Regular Net Profit Growth Rate', ' Continuous Net Profit Growth Rate',\n",
       "        ' Total Asset Growth Rate', ' Net Value Growth Rate',\n",
       "        ' Total Asset Return Growth Rate Ratio', ' Cash Reinvestment %',\n",
       "        ' Current Ratio', ' Quick Ratio', ' Interest Expense Ratio',\n",
       "        ' Total debt/Total net worth', ' Debt ratio %', ' Net worth/Assets',\n",
       "        ' Long-term fund suitability ratio (A)', ' Borrowing dependency',\n",
       "        ' Contingent liabilities/Net worth',\n",
       "        ' Operating profit/Paid-in capital',\n",
       "        ' Net profit before tax/Paid-in capital',\n",
       "        ' Inventory and accounts receivable/Net value', ' Total Asset Turnover',\n",
       "        ' Accounts Receivable Turnover', ' Average Collection Days',\n",
       "        ' Inventory Turnover Rate (times)', ' Fixed Assets Turnover Frequency',\n",
       "        ' Net Worth Turnover Rate (times)', ' Revenue per person',\n",
       "        ' Operating profit per person', ' Allocation rate per person',\n",
       "        ' Working Capital to Total Assets', ' Quick Assets/Total Assets',\n",
       "        ' Current Assets/Total Assets', ' Cash/Total Assets',\n",
       "        ' Quick Assets/Current Liability', ' Cash/Current Liability',\n",
       "        ' Current Liability to Assets', ' Operating Funds to Liability',\n",
       "        ' Inventory/Working Capital', ' Inventory/Current Liability',\n",
       "        ' Current Liabilities/Liability', ' Working Capital/Equity',\n",
       "        ' Current Liabilities/Equity', ' Long-term Liability to Current Assets',\n",
       "        ' Retained Earnings to Total Assets', ' Total income/Total expense',\n",
       "        ' Total expense/Assets', ' Current Asset Turnover Rate',\n",
       "        ' Quick Asset Turnover Rate', ' Working capitcal Turnover Rate',\n",
       "        ' Cash Turnover Rate', ' Cash Flow to Sales', ' Fixed Assets to Assets',\n",
       "        ' Current Liability to Liability', ' Current Liability to Equity',\n",
       "        ' Equity to Long-term Liability', ' Cash Flow to Total Assets',\n",
       "        ' Cash Flow to Liability', ' CFO to Assets', ' Cash Flow to Equity',\n",
       "        ' Current Liability to Current Assets', ' Liability-Assets Flag',\n",
       "        ' Net Income to Total Assets', ' Total assets to GNP price',\n",
       "        ' No-credit Interval', ' Gross Profit to Sales',\n",
       "        ' Net Income to Stockholder's Equity', ' Liability to Equity',\n",
       "        ' Degree of Financial Leverage (DFL)',\n",
       "        ' Interest Coverage Ratio (Interest expense to EBIT)',\n",
       "        ' Net Income Flag', ' Equity to Liability'],\n",
       "       dtype='object'),\n",
       " Bankrupt                                                      int64\n",
       "  ROA(C) before interest and depreciation before interest    float64\n",
       "  ROA(A) before interest and % after tax                     float64\n",
       "  ROA(B) before interest and depreciation after tax          float64\n",
       "  Operating Gross Margin                                     float64\n",
       "                                                              ...   \n",
       "  Liability to Equity                                        float64\n",
       "  Degree of Financial Leverage (DFL)                         float64\n",
       "  Interest Coverage Ratio (Interest expense to EBIT)         float64\n",
       "  Net Income Flag                                              int64\n",
       "  Equity to Liability                                        float64\n",
       " Length: 96, dtype: object)"
      ]
     },
     "execution_count": 3,
     "metadata": {},
     "output_type": "execute_result"
    }
   ],
   "source": [
    "df.shape, df.columns, df.dtypes #Checking out the shape of the df, columns, and data types\n"
   ]
  },
  {
   "cell_type": "code",
   "execution_count": 4,
   "metadata": {},
   "outputs": [
    {
     "data": {
      "text/html": [
       "<div>\n",
       "<style scoped>\n",
       "    .dataframe tbody tr th:only-of-type {\n",
       "        vertical-align: middle;\n",
       "    }\n",
       "\n",
       "    .dataframe tbody tr th {\n",
       "        vertical-align: top;\n",
       "    }\n",
       "\n",
       "    .dataframe thead th {\n",
       "        text-align: right;\n",
       "    }\n",
       "</style>\n",
       "<table border=\"1\" class=\"dataframe\">\n",
       "  <thead>\n",
       "    <tr style=\"text-align: right;\">\n",
       "      <th></th>\n",
       "      <th>Bankrupt</th>\n",
       "      <th>ROA(C) before interest and depreciation before interest</th>\n",
       "      <th>ROA(A) before interest and % after tax</th>\n",
       "      <th>ROA(B) before interest and depreciation after tax</th>\n",
       "      <th>Operating Gross Margin</th>\n",
       "      <th>Realized Sales Gross Margin</th>\n",
       "      <th>Operating Profit Rate</th>\n",
       "      <th>Pre-tax net Interest Rate</th>\n",
       "      <th>After-tax net Interest Rate</th>\n",
       "      <th>Non-industry income and expenditure/revenue</th>\n",
       "      <th>...</th>\n",
       "      <th>Net Income to Total Assets</th>\n",
       "      <th>Total assets to GNP price</th>\n",
       "      <th>No-credit Interval</th>\n",
       "      <th>Gross Profit to Sales</th>\n",
       "      <th>Net Income to Stockholder's Equity</th>\n",
       "      <th>Liability to Equity</th>\n",
       "      <th>Degree of Financial Leverage (DFL)</th>\n",
       "      <th>Interest Coverage Ratio (Interest expense to EBIT)</th>\n",
       "      <th>Net Income Flag</th>\n",
       "      <th>Equity to Liability</th>\n",
       "    </tr>\n",
       "  </thead>\n",
       "  <tbody>\n",
       "    <tr>\n",
       "      <th>0</th>\n",
       "      <td>1</td>\n",
       "      <td>0.370594</td>\n",
       "      <td>0.424389</td>\n",
       "      <td>0.405750</td>\n",
       "      <td>0.601457</td>\n",
       "      <td>0.601457</td>\n",
       "      <td>0.998969</td>\n",
       "      <td>0.796887</td>\n",
       "      <td>0.808809</td>\n",
       "      <td>0.302646</td>\n",
       "      <td>...</td>\n",
       "      <td>0.716845</td>\n",
       "      <td>0.009219</td>\n",
       "      <td>0.622879</td>\n",
       "      <td>0.601453</td>\n",
       "      <td>0.827890</td>\n",
       "      <td>0.290202</td>\n",
       "      <td>0.026601</td>\n",
       "      <td>0.564050</td>\n",
       "      <td>1</td>\n",
       "      <td>0.016469</td>\n",
       "    </tr>\n",
       "    <tr>\n",
       "      <th>1</th>\n",
       "      <td>1</td>\n",
       "      <td>0.464291</td>\n",
       "      <td>0.538214</td>\n",
       "      <td>0.516730</td>\n",
       "      <td>0.610235</td>\n",
       "      <td>0.610235</td>\n",
       "      <td>0.998946</td>\n",
       "      <td>0.797380</td>\n",
       "      <td>0.809301</td>\n",
       "      <td>0.303556</td>\n",
       "      <td>...</td>\n",
       "      <td>0.795297</td>\n",
       "      <td>0.008323</td>\n",
       "      <td>0.623652</td>\n",
       "      <td>0.610237</td>\n",
       "      <td>0.839969</td>\n",
       "      <td>0.283846</td>\n",
       "      <td>0.264577</td>\n",
       "      <td>0.570175</td>\n",
       "      <td>1</td>\n",
       "      <td>0.020794</td>\n",
       "    </tr>\n",
       "    <tr>\n",
       "      <th>2</th>\n",
       "      <td>1</td>\n",
       "      <td>0.426071</td>\n",
       "      <td>0.499019</td>\n",
       "      <td>0.472295</td>\n",
       "      <td>0.601450</td>\n",
       "      <td>0.601364</td>\n",
       "      <td>0.998857</td>\n",
       "      <td>0.796403</td>\n",
       "      <td>0.808388</td>\n",
       "      <td>0.302035</td>\n",
       "      <td>...</td>\n",
       "      <td>0.774670</td>\n",
       "      <td>0.040003</td>\n",
       "      <td>0.623841</td>\n",
       "      <td>0.601449</td>\n",
       "      <td>0.836774</td>\n",
       "      <td>0.290189</td>\n",
       "      <td>0.026555</td>\n",
       "      <td>0.563706</td>\n",
       "      <td>1</td>\n",
       "      <td>0.016474</td>\n",
       "    </tr>\n",
       "    <tr>\n",
       "      <th>3</th>\n",
       "      <td>1</td>\n",
       "      <td>0.399844</td>\n",
       "      <td>0.451265</td>\n",
       "      <td>0.457733</td>\n",
       "      <td>0.583541</td>\n",
       "      <td>0.583541</td>\n",
       "      <td>0.998700</td>\n",
       "      <td>0.796967</td>\n",
       "      <td>0.808966</td>\n",
       "      <td>0.303350</td>\n",
       "      <td>...</td>\n",
       "      <td>0.739555</td>\n",
       "      <td>0.003252</td>\n",
       "      <td>0.622929</td>\n",
       "      <td>0.583538</td>\n",
       "      <td>0.834697</td>\n",
       "      <td>0.281721</td>\n",
       "      <td>0.026697</td>\n",
       "      <td>0.564663</td>\n",
       "      <td>1</td>\n",
       "      <td>0.023982</td>\n",
       "    </tr>\n",
       "    <tr>\n",
       "      <th>4</th>\n",
       "      <td>1</td>\n",
       "      <td>0.465022</td>\n",
       "      <td>0.538432</td>\n",
       "      <td>0.522298</td>\n",
       "      <td>0.598783</td>\n",
       "      <td>0.598783</td>\n",
       "      <td>0.998973</td>\n",
       "      <td>0.797366</td>\n",
       "      <td>0.809304</td>\n",
       "      <td>0.303475</td>\n",
       "      <td>...</td>\n",
       "      <td>0.795016</td>\n",
       "      <td>0.003878</td>\n",
       "      <td>0.623521</td>\n",
       "      <td>0.598782</td>\n",
       "      <td>0.839973</td>\n",
       "      <td>0.278514</td>\n",
       "      <td>0.024752</td>\n",
       "      <td>0.575617</td>\n",
       "      <td>1</td>\n",
       "      <td>0.035490</td>\n",
       "    </tr>\n",
       "  </tbody>\n",
       "</table>\n",
       "<p>5 rows × 96 columns</p>\n",
       "</div>"
      ],
      "text/plain": [
       "   Bankrupt   ROA(C) before interest and depreciation before interest  \\\n",
       "0         1                                           0.370594          \n",
       "1         1                                           0.464291          \n",
       "2         1                                           0.426071          \n",
       "3         1                                           0.399844          \n",
       "4         1                                           0.465022          \n",
       "\n",
       "    ROA(A) before interest and % after tax  \\\n",
       "0                                 0.424389   \n",
       "1                                 0.538214   \n",
       "2                                 0.499019   \n",
       "3                                 0.451265   \n",
       "4                                 0.538432   \n",
       "\n",
       "    ROA(B) before interest and depreciation after tax  \\\n",
       "0                                           0.405750    \n",
       "1                                           0.516730    \n",
       "2                                           0.472295    \n",
       "3                                           0.457733    \n",
       "4                                           0.522298    \n",
       "\n",
       "    Operating Gross Margin   Realized Sales Gross Margin  \\\n",
       "0                 0.601457                      0.601457   \n",
       "1                 0.610235                      0.610235   \n",
       "2                 0.601450                      0.601364   \n",
       "3                 0.583541                      0.583541   \n",
       "4                 0.598783                      0.598783   \n",
       "\n",
       "    Operating Profit Rate   Pre-tax net Interest Rate  \\\n",
       "0                0.998969                    0.796887   \n",
       "1                0.998946                    0.797380   \n",
       "2                0.998857                    0.796403   \n",
       "3                0.998700                    0.796967   \n",
       "4                0.998973                    0.797366   \n",
       "\n",
       "    After-tax net Interest Rate   Non-industry income and expenditure/revenue  \\\n",
       "0                      0.808809                                      0.302646   \n",
       "1                      0.809301                                      0.303556   \n",
       "2                      0.808388                                      0.302035   \n",
       "3                      0.808966                                      0.303350   \n",
       "4                      0.809304                                      0.303475   \n",
       "\n",
       "   ...   Net Income to Total Assets   Total assets to GNP price  \\\n",
       "0  ...                     0.716845                    0.009219   \n",
       "1  ...                     0.795297                    0.008323   \n",
       "2  ...                     0.774670                    0.040003   \n",
       "3  ...                     0.739555                    0.003252   \n",
       "4  ...                     0.795016                    0.003878   \n",
       "\n",
       "    No-credit Interval   Gross Profit to Sales  \\\n",
       "0             0.622879                0.601453   \n",
       "1             0.623652                0.610237   \n",
       "2             0.623841                0.601449   \n",
       "3             0.622929                0.583538   \n",
       "4             0.623521                0.598782   \n",
       "\n",
       "    Net Income to Stockholder's Equity   Liability to Equity  \\\n",
       "0                             0.827890              0.290202   \n",
       "1                             0.839969              0.283846   \n",
       "2                             0.836774              0.290189   \n",
       "3                             0.834697              0.281721   \n",
       "4                             0.839973              0.278514   \n",
       "\n",
       "    Degree of Financial Leverage (DFL)  \\\n",
       "0                             0.026601   \n",
       "1                             0.264577   \n",
       "2                             0.026555   \n",
       "3                             0.026697   \n",
       "4                             0.024752   \n",
       "\n",
       "    Interest Coverage Ratio (Interest expense to EBIT)   Net Income Flag  \\\n",
       "0                                           0.564050                   1   \n",
       "1                                           0.570175                   1   \n",
       "2                                           0.563706                   1   \n",
       "3                                           0.564663                   1   \n",
       "4                                           0.575617                   1   \n",
       "\n",
       "    Equity to Liability  \n",
       "0              0.016469  \n",
       "1              0.020794  \n",
       "2              0.016474  \n",
       "3              0.023982  \n",
       "4              0.035490  \n",
       "\n",
       "[5 rows x 96 columns]"
      ]
     },
     "execution_count": 4,
     "metadata": {},
     "output_type": "execute_result"
    }
   ],
   "source": [
    "df.head() #Looking at the First 5 rows"
   ]
  },
  {
   "cell_type": "code",
   "execution_count": 5,
   "metadata": {},
   "outputs": [
    {
     "data": {
      "text/html": [
       "<div>\n",
       "<style scoped>\n",
       "    .dataframe tbody tr th:only-of-type {\n",
       "        vertical-align: middle;\n",
       "    }\n",
       "\n",
       "    .dataframe tbody tr th {\n",
       "        vertical-align: top;\n",
       "    }\n",
       "\n",
       "    .dataframe thead th {\n",
       "        text-align: right;\n",
       "    }\n",
       "</style>\n",
       "<table border=\"1\" class=\"dataframe\">\n",
       "  <thead>\n",
       "    <tr style=\"text-align: right;\">\n",
       "      <th></th>\n",
       "      <th>Bankrupt</th>\n",
       "      <th>ROA(C) before interest and depreciation before interest</th>\n",
       "      <th>ROA(A) before interest and % after tax</th>\n",
       "      <th>ROA(B) before interest and depreciation after tax</th>\n",
       "      <th>Operating Gross Margin</th>\n",
       "      <th>Realized Sales Gross Margin</th>\n",
       "      <th>Operating Profit Rate</th>\n",
       "      <th>Pre-tax net Interest Rate</th>\n",
       "      <th>After-tax net Interest Rate</th>\n",
       "      <th>Non-industry income and expenditure/revenue</th>\n",
       "      <th>...</th>\n",
       "      <th>Net Income to Total Assets</th>\n",
       "      <th>Total assets to GNP price</th>\n",
       "      <th>No-credit Interval</th>\n",
       "      <th>Gross Profit to Sales</th>\n",
       "      <th>Net Income to Stockholder's Equity</th>\n",
       "      <th>Liability to Equity</th>\n",
       "      <th>Degree of Financial Leverage (DFL)</th>\n",
       "      <th>Interest Coverage Ratio (Interest expense to EBIT)</th>\n",
       "      <th>Net Income Flag</th>\n",
       "      <th>Equity to Liability</th>\n",
       "    </tr>\n",
       "  </thead>\n",
       "  <tbody>\n",
       "    <tr>\n",
       "      <th>6814</th>\n",
       "      <td>0</td>\n",
       "      <td>0.493687</td>\n",
       "      <td>0.539468</td>\n",
       "      <td>0.543230</td>\n",
       "      <td>0.604455</td>\n",
       "      <td>0.604462</td>\n",
       "      <td>0.998992</td>\n",
       "      <td>0.797409</td>\n",
       "      <td>0.809331</td>\n",
       "      <td>0.303510</td>\n",
       "      <td>...</td>\n",
       "      <td>0.799927</td>\n",
       "      <td>0.000466</td>\n",
       "      <td>0.623620</td>\n",
       "      <td>0.604455</td>\n",
       "      <td>0.840359</td>\n",
       "      <td>0.279606</td>\n",
       "      <td>0.027064</td>\n",
       "      <td>0.566193</td>\n",
       "      <td>1</td>\n",
       "      <td>0.029890</td>\n",
       "    </tr>\n",
       "    <tr>\n",
       "      <th>6815</th>\n",
       "      <td>0</td>\n",
       "      <td>0.475162</td>\n",
       "      <td>0.538269</td>\n",
       "      <td>0.524172</td>\n",
       "      <td>0.598308</td>\n",
       "      <td>0.598308</td>\n",
       "      <td>0.998992</td>\n",
       "      <td>0.797414</td>\n",
       "      <td>0.809327</td>\n",
       "      <td>0.303520</td>\n",
       "      <td>...</td>\n",
       "      <td>0.799748</td>\n",
       "      <td>0.001959</td>\n",
       "      <td>0.623931</td>\n",
       "      <td>0.598306</td>\n",
       "      <td>0.840306</td>\n",
       "      <td>0.278132</td>\n",
       "      <td>0.027009</td>\n",
       "      <td>0.566018</td>\n",
       "      <td>1</td>\n",
       "      <td>0.038284</td>\n",
       "    </tr>\n",
       "    <tr>\n",
       "      <th>6816</th>\n",
       "      <td>0</td>\n",
       "      <td>0.472725</td>\n",
       "      <td>0.533744</td>\n",
       "      <td>0.520638</td>\n",
       "      <td>0.610444</td>\n",
       "      <td>0.610213</td>\n",
       "      <td>0.998984</td>\n",
       "      <td>0.797401</td>\n",
       "      <td>0.809317</td>\n",
       "      <td>0.303512</td>\n",
       "      <td>...</td>\n",
       "      <td>0.797778</td>\n",
       "      <td>0.002840</td>\n",
       "      <td>0.624156</td>\n",
       "      <td>0.610441</td>\n",
       "      <td>0.840138</td>\n",
       "      <td>0.275789</td>\n",
       "      <td>0.026791</td>\n",
       "      <td>0.565158</td>\n",
       "      <td>1</td>\n",
       "      <td>0.097649</td>\n",
       "    </tr>\n",
       "    <tr>\n",
       "      <th>6817</th>\n",
       "      <td>0</td>\n",
       "      <td>0.506264</td>\n",
       "      <td>0.559911</td>\n",
       "      <td>0.554045</td>\n",
       "      <td>0.607850</td>\n",
       "      <td>0.607850</td>\n",
       "      <td>0.999074</td>\n",
       "      <td>0.797500</td>\n",
       "      <td>0.809399</td>\n",
       "      <td>0.303498</td>\n",
       "      <td>...</td>\n",
       "      <td>0.811808</td>\n",
       "      <td>0.002837</td>\n",
       "      <td>0.623957</td>\n",
       "      <td>0.607846</td>\n",
       "      <td>0.841084</td>\n",
       "      <td>0.277547</td>\n",
       "      <td>0.026822</td>\n",
       "      <td>0.565302</td>\n",
       "      <td>1</td>\n",
       "      <td>0.044009</td>\n",
       "    </tr>\n",
       "    <tr>\n",
       "      <th>6818</th>\n",
       "      <td>0</td>\n",
       "      <td>0.493053</td>\n",
       "      <td>0.570105</td>\n",
       "      <td>0.549548</td>\n",
       "      <td>0.627409</td>\n",
       "      <td>0.627409</td>\n",
       "      <td>0.998080</td>\n",
       "      <td>0.801987</td>\n",
       "      <td>0.813800</td>\n",
       "      <td>0.313415</td>\n",
       "      <td>...</td>\n",
       "      <td>0.815956</td>\n",
       "      <td>0.000707</td>\n",
       "      <td>0.626680</td>\n",
       "      <td>0.627408</td>\n",
       "      <td>0.841019</td>\n",
       "      <td>0.275114</td>\n",
       "      <td>0.026793</td>\n",
       "      <td>0.565167</td>\n",
       "      <td>1</td>\n",
       "      <td>0.233902</td>\n",
       "    </tr>\n",
       "  </tbody>\n",
       "</table>\n",
       "<p>5 rows × 96 columns</p>\n",
       "</div>"
      ],
      "text/plain": [
       "      Bankrupt   ROA(C) before interest and depreciation before interest  \\\n",
       "6814         0                                           0.493687          \n",
       "6815         0                                           0.475162          \n",
       "6816         0                                           0.472725          \n",
       "6817         0                                           0.506264          \n",
       "6818         0                                           0.493053          \n",
       "\n",
       "       ROA(A) before interest and % after tax  \\\n",
       "6814                                 0.539468   \n",
       "6815                                 0.538269   \n",
       "6816                                 0.533744   \n",
       "6817                                 0.559911   \n",
       "6818                                 0.570105   \n",
       "\n",
       "       ROA(B) before interest and depreciation after tax  \\\n",
       "6814                                           0.543230    \n",
       "6815                                           0.524172    \n",
       "6816                                           0.520638    \n",
       "6817                                           0.554045    \n",
       "6818                                           0.549548    \n",
       "\n",
       "       Operating Gross Margin   Realized Sales Gross Margin  \\\n",
       "6814                 0.604455                      0.604462   \n",
       "6815                 0.598308                      0.598308   \n",
       "6816                 0.610444                      0.610213   \n",
       "6817                 0.607850                      0.607850   \n",
       "6818                 0.627409                      0.627409   \n",
       "\n",
       "       Operating Profit Rate   Pre-tax net Interest Rate  \\\n",
       "6814                0.998992                    0.797409   \n",
       "6815                0.998992                    0.797414   \n",
       "6816                0.998984                    0.797401   \n",
       "6817                0.999074                    0.797500   \n",
       "6818                0.998080                    0.801987   \n",
       "\n",
       "       After-tax net Interest Rate  \\\n",
       "6814                      0.809331   \n",
       "6815                      0.809327   \n",
       "6816                      0.809317   \n",
       "6817                      0.809399   \n",
       "6818                      0.813800   \n",
       "\n",
       "       Non-industry income and expenditure/revenue  ...  \\\n",
       "6814                                      0.303510  ...   \n",
       "6815                                      0.303520  ...   \n",
       "6816                                      0.303512  ...   \n",
       "6817                                      0.303498  ...   \n",
       "6818                                      0.313415  ...   \n",
       "\n",
       "       Net Income to Total Assets   Total assets to GNP price  \\\n",
       "6814                     0.799927                    0.000466   \n",
       "6815                     0.799748                    0.001959   \n",
       "6816                     0.797778                    0.002840   \n",
       "6817                     0.811808                    0.002837   \n",
       "6818                     0.815956                    0.000707   \n",
       "\n",
       "       No-credit Interval   Gross Profit to Sales  \\\n",
       "6814             0.623620                0.604455   \n",
       "6815             0.623931                0.598306   \n",
       "6816             0.624156                0.610441   \n",
       "6817             0.623957                0.607846   \n",
       "6818             0.626680                0.627408   \n",
       "\n",
       "       Net Income to Stockholder's Equity   Liability to Equity  \\\n",
       "6814                             0.840359              0.279606   \n",
       "6815                             0.840306              0.278132   \n",
       "6816                             0.840138              0.275789   \n",
       "6817                             0.841084              0.277547   \n",
       "6818                             0.841019              0.275114   \n",
       "\n",
       "       Degree of Financial Leverage (DFL)  \\\n",
       "6814                             0.027064   \n",
       "6815                             0.027009   \n",
       "6816                             0.026791   \n",
       "6817                             0.026822   \n",
       "6818                             0.026793   \n",
       "\n",
       "       Interest Coverage Ratio (Interest expense to EBIT)   Net Income Flag  \\\n",
       "6814                                           0.566193                   1   \n",
       "6815                                           0.566018                   1   \n",
       "6816                                           0.565158                   1   \n",
       "6817                                           0.565302                   1   \n",
       "6818                                           0.565167                   1   \n",
       "\n",
       "       Equity to Liability  \n",
       "6814              0.029890  \n",
       "6815              0.038284  \n",
       "6816              0.097649  \n",
       "6817              0.044009  \n",
       "6818              0.233902  \n",
       "\n",
       "[5 rows x 96 columns]"
      ]
     },
     "execution_count": 5,
     "metadata": {},
     "output_type": "execute_result"
    }
   ],
   "source": [
    "df.tail() #Looking at the last 5 rows\n"
   ]
  },
  {
   "cell_type": "code",
   "execution_count": 6,
   "metadata": {},
   "outputs": [
    {
     "data": {
      "text/html": [
       "<div>\n",
       "<style scoped>\n",
       "    .dataframe tbody tr th:only-of-type {\n",
       "        vertical-align: middle;\n",
       "    }\n",
       "\n",
       "    .dataframe tbody tr th {\n",
       "        vertical-align: top;\n",
       "    }\n",
       "\n",
       "    .dataframe thead th {\n",
       "        text-align: right;\n",
       "    }\n",
       "</style>\n",
       "<table border=\"1\" class=\"dataframe\">\n",
       "  <thead>\n",
       "    <tr style=\"text-align: right;\">\n",
       "      <th></th>\n",
       "      <th>Bankrupt</th>\n",
       "      <th>ROA(C) before interest and depreciation before interest</th>\n",
       "      <th>ROA(A) before interest and % after tax</th>\n",
       "      <th>ROA(B) before interest and depreciation after tax</th>\n",
       "      <th>Operating Gross Margin</th>\n",
       "      <th>Realized Sales Gross Margin</th>\n",
       "      <th>Operating Profit Rate</th>\n",
       "      <th>Pre-tax net Interest Rate</th>\n",
       "      <th>After-tax net Interest Rate</th>\n",
       "      <th>Non-industry income and expenditure/revenue</th>\n",
       "      <th>...</th>\n",
       "      <th>Net Income to Total Assets</th>\n",
       "      <th>Total assets to GNP price</th>\n",
       "      <th>No-credit Interval</th>\n",
       "      <th>Gross Profit to Sales</th>\n",
       "      <th>Net Income to Stockholder's Equity</th>\n",
       "      <th>Liability to Equity</th>\n",
       "      <th>Degree of Financial Leverage (DFL)</th>\n",
       "      <th>Interest Coverage Ratio (Interest expense to EBIT)</th>\n",
       "      <th>Net Income Flag</th>\n",
       "      <th>Equity to Liability</th>\n",
       "    </tr>\n",
       "  </thead>\n",
       "  <tbody>\n",
       "    <tr>\n",
       "      <th>count</th>\n",
       "      <td>6819.000000</td>\n",
       "      <td>6819.000000</td>\n",
       "      <td>6819.000000</td>\n",
       "      <td>6819.000000</td>\n",
       "      <td>6819.000000</td>\n",
       "      <td>6819.000000</td>\n",
       "      <td>6819.000000</td>\n",
       "      <td>6819.000000</td>\n",
       "      <td>6819.000000</td>\n",
       "      <td>6819.000000</td>\n",
       "      <td>...</td>\n",
       "      <td>6819.000000</td>\n",
       "      <td>6.819000e+03</td>\n",
       "      <td>6819.000000</td>\n",
       "      <td>6819.000000</td>\n",
       "      <td>6819.000000</td>\n",
       "      <td>6819.000000</td>\n",
       "      <td>6819.000000</td>\n",
       "      <td>6819.000000</td>\n",
       "      <td>6819.0</td>\n",
       "      <td>6819.000000</td>\n",
       "    </tr>\n",
       "    <tr>\n",
       "      <th>mean</th>\n",
       "      <td>0.032263</td>\n",
       "      <td>0.505180</td>\n",
       "      <td>0.558625</td>\n",
       "      <td>0.553589</td>\n",
       "      <td>0.607948</td>\n",
       "      <td>0.607929</td>\n",
       "      <td>0.998755</td>\n",
       "      <td>0.797190</td>\n",
       "      <td>0.809084</td>\n",
       "      <td>0.303623</td>\n",
       "      <td>...</td>\n",
       "      <td>0.807760</td>\n",
       "      <td>1.862942e+07</td>\n",
       "      <td>0.623915</td>\n",
       "      <td>0.607946</td>\n",
       "      <td>0.840402</td>\n",
       "      <td>0.280365</td>\n",
       "      <td>0.027541</td>\n",
       "      <td>0.565358</td>\n",
       "      <td>1.0</td>\n",
       "      <td>0.047578</td>\n",
       "    </tr>\n",
       "    <tr>\n",
       "      <th>std</th>\n",
       "      <td>0.176710</td>\n",
       "      <td>0.060686</td>\n",
       "      <td>0.065620</td>\n",
       "      <td>0.061595</td>\n",
       "      <td>0.016934</td>\n",
       "      <td>0.016916</td>\n",
       "      <td>0.013010</td>\n",
       "      <td>0.012869</td>\n",
       "      <td>0.013601</td>\n",
       "      <td>0.011163</td>\n",
       "      <td>...</td>\n",
       "      <td>0.040332</td>\n",
       "      <td>3.764501e+08</td>\n",
       "      <td>0.012290</td>\n",
       "      <td>0.016934</td>\n",
       "      <td>0.014523</td>\n",
       "      <td>0.014463</td>\n",
       "      <td>0.015668</td>\n",
       "      <td>0.013214</td>\n",
       "      <td>0.0</td>\n",
       "      <td>0.050014</td>\n",
       "    </tr>\n",
       "    <tr>\n",
       "      <th>min</th>\n",
       "      <td>0.000000</td>\n",
       "      <td>0.000000</td>\n",
       "      <td>0.000000</td>\n",
       "      <td>0.000000</td>\n",
       "      <td>0.000000</td>\n",
       "      <td>0.000000</td>\n",
       "      <td>0.000000</td>\n",
       "      <td>0.000000</td>\n",
       "      <td>0.000000</td>\n",
       "      <td>0.000000</td>\n",
       "      <td>...</td>\n",
       "      <td>0.000000</td>\n",
       "      <td>0.000000e+00</td>\n",
       "      <td>0.000000</td>\n",
       "      <td>0.000000</td>\n",
       "      <td>0.000000</td>\n",
       "      <td>0.000000</td>\n",
       "      <td>0.000000</td>\n",
       "      <td>0.000000</td>\n",
       "      <td>1.0</td>\n",
       "      <td>0.000000</td>\n",
       "    </tr>\n",
       "    <tr>\n",
       "      <th>25%</th>\n",
       "      <td>0.000000</td>\n",
       "      <td>0.476527</td>\n",
       "      <td>0.535543</td>\n",
       "      <td>0.527277</td>\n",
       "      <td>0.600445</td>\n",
       "      <td>0.600434</td>\n",
       "      <td>0.998969</td>\n",
       "      <td>0.797386</td>\n",
       "      <td>0.809312</td>\n",
       "      <td>0.303466</td>\n",
       "      <td>...</td>\n",
       "      <td>0.796750</td>\n",
       "      <td>9.036205e-04</td>\n",
       "      <td>0.623636</td>\n",
       "      <td>0.600443</td>\n",
       "      <td>0.840115</td>\n",
       "      <td>0.276944</td>\n",
       "      <td>0.026791</td>\n",
       "      <td>0.565158</td>\n",
       "      <td>1.0</td>\n",
       "      <td>0.024477</td>\n",
       "    </tr>\n",
       "    <tr>\n",
       "      <th>50%</th>\n",
       "      <td>0.000000</td>\n",
       "      <td>0.502706</td>\n",
       "      <td>0.559802</td>\n",
       "      <td>0.552278</td>\n",
       "      <td>0.605997</td>\n",
       "      <td>0.605976</td>\n",
       "      <td>0.999022</td>\n",
       "      <td>0.797464</td>\n",
       "      <td>0.809375</td>\n",
       "      <td>0.303525</td>\n",
       "      <td>...</td>\n",
       "      <td>0.810619</td>\n",
       "      <td>2.085213e-03</td>\n",
       "      <td>0.623879</td>\n",
       "      <td>0.605998</td>\n",
       "      <td>0.841179</td>\n",
       "      <td>0.278778</td>\n",
       "      <td>0.026808</td>\n",
       "      <td>0.565252</td>\n",
       "      <td>1.0</td>\n",
       "      <td>0.033798</td>\n",
       "    </tr>\n",
       "    <tr>\n",
       "      <th>75%</th>\n",
       "      <td>0.000000</td>\n",
       "      <td>0.535563</td>\n",
       "      <td>0.589157</td>\n",
       "      <td>0.584105</td>\n",
       "      <td>0.613914</td>\n",
       "      <td>0.613842</td>\n",
       "      <td>0.999095</td>\n",
       "      <td>0.797579</td>\n",
       "      <td>0.809469</td>\n",
       "      <td>0.303585</td>\n",
       "      <td>...</td>\n",
       "      <td>0.826455</td>\n",
       "      <td>5.269777e-03</td>\n",
       "      <td>0.624168</td>\n",
       "      <td>0.613913</td>\n",
       "      <td>0.842357</td>\n",
       "      <td>0.281449</td>\n",
       "      <td>0.026913</td>\n",
       "      <td>0.565725</td>\n",
       "      <td>1.0</td>\n",
       "      <td>0.052838</td>\n",
       "    </tr>\n",
       "    <tr>\n",
       "      <th>max</th>\n",
       "      <td>1.000000</td>\n",
       "      <td>1.000000</td>\n",
       "      <td>1.000000</td>\n",
       "      <td>1.000000</td>\n",
       "      <td>1.000000</td>\n",
       "      <td>1.000000</td>\n",
       "      <td>1.000000</td>\n",
       "      <td>1.000000</td>\n",
       "      <td>1.000000</td>\n",
       "      <td>1.000000</td>\n",
       "      <td>...</td>\n",
       "      <td>1.000000</td>\n",
       "      <td>9.820000e+09</td>\n",
       "      <td>1.000000</td>\n",
       "      <td>1.000000</td>\n",
       "      <td>1.000000</td>\n",
       "      <td>1.000000</td>\n",
       "      <td>1.000000</td>\n",
       "      <td>1.000000</td>\n",
       "      <td>1.0</td>\n",
       "      <td>1.000000</td>\n",
       "    </tr>\n",
       "  </tbody>\n",
       "</table>\n",
       "<p>8 rows × 96 columns</p>\n",
       "</div>"
      ],
      "text/plain": [
       "          Bankrupt   ROA(C) before interest and depreciation before interest  \\\n",
       "count  6819.000000                                        6819.000000          \n",
       "mean      0.032263                                           0.505180          \n",
       "std       0.176710                                           0.060686          \n",
       "min       0.000000                                           0.000000          \n",
       "25%       0.000000                                           0.476527          \n",
       "50%       0.000000                                           0.502706          \n",
       "75%       0.000000                                           0.535563          \n",
       "max       1.000000                                           1.000000          \n",
       "\n",
       "        ROA(A) before interest and % after tax  \\\n",
       "count                              6819.000000   \n",
       "mean                                  0.558625   \n",
       "std                                   0.065620   \n",
       "min                                   0.000000   \n",
       "25%                                   0.535543   \n",
       "50%                                   0.559802   \n",
       "75%                                   0.589157   \n",
       "max                                   1.000000   \n",
       "\n",
       "        ROA(B) before interest and depreciation after tax  \\\n",
       "count                                        6819.000000    \n",
       "mean                                            0.553589    \n",
       "std                                             0.061595    \n",
       "min                                             0.000000    \n",
       "25%                                             0.527277    \n",
       "50%                                             0.552278    \n",
       "75%                                             0.584105    \n",
       "max                                             1.000000    \n",
       "\n",
       "        Operating Gross Margin   Realized Sales Gross Margin  \\\n",
       "count              6819.000000                   6819.000000   \n",
       "mean                  0.607948                      0.607929   \n",
       "std                   0.016934                      0.016916   \n",
       "min                   0.000000                      0.000000   \n",
       "25%                   0.600445                      0.600434   \n",
       "50%                   0.605997                      0.605976   \n",
       "75%                   0.613914                      0.613842   \n",
       "max                   1.000000                      1.000000   \n",
       "\n",
       "        Operating Profit Rate   Pre-tax net Interest Rate  \\\n",
       "count             6819.000000                 6819.000000   \n",
       "mean                 0.998755                    0.797190   \n",
       "std                  0.013010                    0.012869   \n",
       "min                  0.000000                    0.000000   \n",
       "25%                  0.998969                    0.797386   \n",
       "50%                  0.999022                    0.797464   \n",
       "75%                  0.999095                    0.797579   \n",
       "max                  1.000000                    1.000000   \n",
       "\n",
       "        After-tax net Interest Rate  \\\n",
       "count                   6819.000000   \n",
       "mean                       0.809084   \n",
       "std                        0.013601   \n",
       "min                        0.000000   \n",
       "25%                        0.809312   \n",
       "50%                        0.809375   \n",
       "75%                        0.809469   \n",
       "max                        1.000000   \n",
       "\n",
       "        Non-industry income and expenditure/revenue  ...  \\\n",
       "count                                   6819.000000  ...   \n",
       "mean                                       0.303623  ...   \n",
       "std                                        0.011163  ...   \n",
       "min                                        0.000000  ...   \n",
       "25%                                        0.303466  ...   \n",
       "50%                                        0.303525  ...   \n",
       "75%                                        0.303585  ...   \n",
       "max                                        1.000000  ...   \n",
       "\n",
       "        Net Income to Total Assets   Total assets to GNP price  \\\n",
       "count                  6819.000000                6.819000e+03   \n",
       "mean                      0.807760                1.862942e+07   \n",
       "std                       0.040332                3.764501e+08   \n",
       "min                       0.000000                0.000000e+00   \n",
       "25%                       0.796750                9.036205e-04   \n",
       "50%                       0.810619                2.085213e-03   \n",
       "75%                       0.826455                5.269777e-03   \n",
       "max                       1.000000                9.820000e+09   \n",
       "\n",
       "        No-credit Interval   Gross Profit to Sales  \\\n",
       "count          6819.000000             6819.000000   \n",
       "mean              0.623915                0.607946   \n",
       "std               0.012290                0.016934   \n",
       "min               0.000000                0.000000   \n",
       "25%               0.623636                0.600443   \n",
       "50%               0.623879                0.605998   \n",
       "75%               0.624168                0.613913   \n",
       "max               1.000000                1.000000   \n",
       "\n",
       "        Net Income to Stockholder's Equity   Liability to Equity  \\\n",
       "count                          6819.000000           6819.000000   \n",
       "mean                              0.840402              0.280365   \n",
       "std                               0.014523              0.014463   \n",
       "min                               0.000000              0.000000   \n",
       "25%                               0.840115              0.276944   \n",
       "50%                               0.841179              0.278778   \n",
       "75%                               0.842357              0.281449   \n",
       "max                               1.000000              1.000000   \n",
       "\n",
       "        Degree of Financial Leverage (DFL)  \\\n",
       "count                          6819.000000   \n",
       "mean                              0.027541   \n",
       "std                               0.015668   \n",
       "min                               0.000000   \n",
       "25%                               0.026791   \n",
       "50%                               0.026808   \n",
       "75%                               0.026913   \n",
       "max                               1.000000   \n",
       "\n",
       "        Interest Coverage Ratio (Interest expense to EBIT)   Net Income Flag  \\\n",
       "count                                        6819.000000              6819.0   \n",
       "mean                                            0.565358                 1.0   \n",
       "std                                             0.013214                 0.0   \n",
       "min                                             0.000000                 1.0   \n",
       "25%                                             0.565158                 1.0   \n",
       "50%                                             0.565252                 1.0   \n",
       "75%                                             0.565725                 1.0   \n",
       "max                                             1.000000                 1.0   \n",
       "\n",
       "        Equity to Liability  \n",
       "count           6819.000000  \n",
       "mean               0.047578  \n",
       "std                0.050014  \n",
       "min                0.000000  \n",
       "25%                0.024477  \n",
       "50%                0.033798  \n",
       "75%                0.052838  \n",
       "max                1.000000  \n",
       "\n",
       "[8 rows x 96 columns]"
      ]
     },
     "execution_count": 6,
     "metadata": {},
     "output_type": "execute_result"
    }
   ],
   "source": [
    "df.describe() #checking out some basic metrics"
   ]
  },
  {
   "cell_type": "code",
   "execution_count": 7,
   "metadata": {},
   "outputs": [
    {
     "data": {
      "text/plain": [
       "0    96\n",
       "dtype: int64"
      ]
     },
     "execution_count": 7,
     "metadata": {},
     "output_type": "execute_result"
    }
   ],
   "source": [
    "na = df.isna().sum() # There arent any missing vals\n",
    "na.value_counts()"
   ]
  },
  {
   "cell_type": "code",
   "execution_count": 8,
   "metadata": {},
   "outputs": [
    {
     "data": {
      "text/plain": [
       "0    6599\n",
       "1     220\n",
       "Name: Bankrupt, dtype: int64"
      ]
     },
     "execution_count": 8,
     "metadata": {},
     "output_type": "execute_result"
    }
   ],
   "source": [
    "df.Bankrupt.value_counts() # Inbalanced Classes"
   ]
  },
  {
   "cell_type": "code",
   "execution_count": 9,
   "metadata": {},
   "outputs": [],
   "source": [
    "minorityDF = df[df.Bankrupt == 1] # splitting into minority class"
   ]
  },
  {
   "cell_type": "code",
   "execution_count": 10,
   "metadata": {},
   "outputs": [],
   "source": [
    "majorityDF = df[df.Bankrupt == 0] # splitting into majority class"
   ]
  },
  {
   "cell_type": "code",
   "execution_count": 11,
   "metadata": {},
   "outputs": [],
   "source": [
    "underSampleMajority = sk.utils.resample(majorityDF,n_samples=220)"
   ]
  },
  {
   "cell_type": "code",
   "execution_count": 12,
   "metadata": {},
   "outputs": [],
   "source": [
    "underSample = pd.concat([underSampleMajority , minorityDF])"
   ]
  },
  {
   "cell_type": "code",
   "execution_count": 13,
   "metadata": {},
   "outputs": [
    {
     "data": {
      "text/plain": [
       "1    220\n",
       "0    220\n",
       "Name: Bankrupt, dtype: int64"
      ]
     },
     "execution_count": 13,
     "metadata": {},
     "output_type": "execute_result"
    }
   ],
   "source": [
    "underSample.Bankrupt.value_counts() #balanced!"
   ]
  },
  {
   "cell_type": "code",
   "execution_count": 14,
   "metadata": {},
   "outputs": [],
   "source": [
    "y = df.Bankrupt\n",
    "\n",
    "X = df.loc[:, df.columns != \"Bankrupt\"]\n",
    "\n",
    "X_train, X_test, y_train, y_test = train_test_split(X, y, test_size=0.2, random_state=42)"
   ]
  },
  {
   "cell_type": "markdown",
   "metadata": {},
   "source": [
    "Fit the model on the training set using the default parameters and report your findings.(5 points)"
   ]
  },
  {
   "cell_type": "code",
   "execution_count": 15,
   "metadata": {
    "scrolled": true
   },
   "outputs": [],
   "source": [
    "\n",
    "\n",
    "rf_classifier = RandomForestClassifier()\n"
   ]
  },
  {
   "cell_type": "code",
   "execution_count": 16,
   "metadata": {},
   "outputs": [
    {
     "name": "stdout",
     "output_type": "stream",
     "text": [
      "CPU times: user 4.02 s, sys: 22.6 ms, total: 4.04 s\n",
      "Wall time: 4.25 s\n"
     ]
    },
    {
     "data": {
      "text/plain": [
       "RandomForestClassifier()"
      ]
     },
     "execution_count": 16,
     "metadata": {},
     "output_type": "execute_result"
    }
   ],
   "source": [
    "%%time\n",
    "rf_classifier.fit(X_train, y_train)"
   ]
  },
  {
   "cell_type": "code",
   "execution_count": 17,
   "metadata": {},
   "outputs": [
    {
     "name": "stdout",
     "output_type": "stream",
     "text": [
      "              precision    recall  f1-score   support\n",
      "\n",
      "           0       0.97      1.00      0.98      1313\n",
      "           1       0.83      0.20      0.32        51\n",
      "\n",
      "    accuracy                           0.97      1364\n",
      "   macro avg       0.90      0.60      0.65      1364\n",
      "weighted avg       0.96      0.97      0.96      1364\n",
      "\n"
     ]
    }
   ],
   "source": [
    "y_pred = rf_classifier.predict(X_test)\n",
    "\n",
    "\n",
    "print(classification_report(y_test, y_pred))"
   ]
  },
  {
   "cell_type": "markdown",
   "metadata": {},
   "source": [
    "Repeat 1 but change the parameters to different non-default parameters. Evaluate this model on your choice of metrics. Which model do you prefer? (5 points)"
   ]
  },
  {
   "cell_type": "markdown",
   "metadata": {},
   "source": [
    "Based on your findings above which parameter combinations give you the best results for classification? Would you prefer “Gini” or “entropy” as your splitting metric? (5 points)"
   ]
  },
  {
   "cell_type": "code",
   "execution_count": 18,
   "metadata": {},
   "outputs": [],
   "source": [
    "# my customized version\n",
    "rf_classifier_custom = RandomForestClassifier(n_estimators=100, max_depth=9, min_samples_split=2, min_samples_leaf=1, criterion='entropy')\n"
   ]
  },
  {
   "cell_type": "code",
   "execution_count": null,
   "metadata": {},
   "outputs": [],
   "source": [
    "#### Good job on the design choice above. "
   ]
  },
  {
   "cell_type": "code",
   "execution_count": 19,
   "metadata": {},
   "outputs": [
    {
     "name": "stdout",
     "output_type": "stream",
     "text": [
      "CPU times: user 2.87 s, sys: 8.07 ms, total: 2.88 s\n",
      "Wall time: 2.9 s\n"
     ]
    },
    {
     "data": {
      "text/plain": [
       "RandomForestClassifier(criterion='entropy', max_depth=9)"
      ]
     },
     "execution_count": 19,
     "metadata": {},
     "output_type": "execute_result"
    }
   ],
   "source": [
    "%%time\n",
    "rf_classifier_custom.fit(X_train, y_train)"
   ]
  },
  {
   "cell_type": "code",
   "execution_count": 20,
   "metadata": {},
   "outputs": [
    {
     "name": "stdout",
     "output_type": "stream",
     "text": [
      "              precision    recall  f1-score   support\n",
      "\n",
      "           0       0.97      1.00      0.98      1313\n",
      "           1       0.86      0.12      0.21        51\n",
      "\n",
      "    accuracy                           0.97      1364\n",
      "   macro avg       0.91      0.56      0.59      1364\n",
      "weighted avg       0.96      0.97      0.95      1364\n",
      "\n"
     ]
    }
   ],
   "source": [
    "y_pred_custom = rf_classifier_custom.predict(X_test)\n",
    "\n",
    "print(classification_report(y_test, y_pred_custom))"
   ]
  },
  {
   "cell_type": "markdown",
   "metadata": {},
   "source": [
    "Which model do you prefer? \n",
    "\n",
    "Simply based on the precision, recall, f1-score,and accuracy it appears that the default parameters performed better. It's predictive abilities for the class = 1 is better in recall and f1-score which I would perfer in a model that has inbalanced classes like our dataset. The accuracy scores are the same and the run time is similar for both models, but the default performed sligthly better in my case."
   ]
  },
  {
   "cell_type": "markdown",
   "metadata": {},
   "source": [
    "Which model takes longer to fit? 1. Or 2.? Report the CPU time. (2 points)\n",
    "\n",
    "The CPU time for the default model is 3.07s and 3.09s for the customized model. About the same but the default model fits slightly faster."
   ]
  },
  {
   "cell_type": "markdown",
   "metadata": {},
   "source": [
    "Based on your findings above which parameter combinations give you the best results for classification? Would you prefer “Gini” or “entropy” as your splitting metric? (5 points) \n",
    "\n",
    "Based on my two models and parameter combinations I would say the default model works better, as the run times and accuracy scores are the same, and basiclly all metrics for class = 0 are similar. The deciding factor in my mind is the better recall and f1 score for the default model as mentioned in my answer above. Based off the better performance metrics for the underrepresented class I think the gini split method works better on this dataset (the default method)."
   ]
  },
  {
   "cell_type": "markdown",
   "metadata": {},
   "source": [
    "Choose one of the models from number 1. Or number 2, display, and discuss the decision rules. Do the rules make sense for classification? (5 points)\n"
   ]
  },
  {
   "cell_type": "code",
   "execution_count": 21,
   "metadata": {},
   "outputs": [
    {
     "data": {
      "image/png": "[encoded data removed]",
      "text/plain": [
       "<Figure size 1440x720 with 1 Axes>"
      ]
     },
     "metadata": {
      "needs_background": "light"
     },
     "output_type": "display_data"
    }
   ],
   "source": [
    "\n",
    "chosen_tree_index = 0\n",
    "\n",
    "plt.figure(figsize=(20, 10))\n",
    "plot_tree(rf_classifier.estimators_[chosen_tree_index], filled=True, feature_names=X_train.columns, class_names=['0', '1'], fontsize=9)\n",
    "    \n",
    "plt.show()"
   ]
  },
  {
   "cell_type": "code",
   "execution_count": null,
   "metadata": {},
   "outputs": [],
   "source": [
    "#### The above plot is very well done."
   ]
  },
  {
   "cell_type": "markdown",
   "metadata": {},
   "source": [
    "In my opinion, the decision tree ruless make sense. I'm not a finance or banking expert but starting with the Retained Earnings to equity seems to make sense in terms of predicting for banktruptcy as earnings and assets and there ratio are neccessary to success in the industry. Then working into Debt Ratio, Interest Expense Ratio etc seem rational as well as they seem to give overarching information on the general health of the firm. These choices seem to make sense."
   ]
  },
  {
   "cell_type": "markdown",
   "metadata": {},
   "source": [
    "Which features are the most important for classification? (2 points)\n",
    "\n",
    "The most important features are Borrowing dependency, Net Income to Stockholders Equity and Persistent EPS in the Last Four Seasons. "
   ]
  },
  {
   "cell_type": "code",
   "execution_count": 22,
   "metadata": {},
   "outputs": [
    {
     "name": "stdout",
     "output_type": "stream",
     "text": [
      "                                     Feature  Importance\n",
      "29                     Net Value Growth Rate    0.029996\n",
      "18   Persistent EPS in the Last Four Seasons    0.026304\n",
      "89        Net Income to Stockholder's Equity    0.025356\n",
      "39                      Borrowing dependency    0.019695\n",
      "91        Degree of Financial Leverage (DFL)    0.019495\n",
      "..                                       ...         ...\n",
      "40          Contingent liabilities/Net worth    0.004122\n",
      "44                      Total Asset Turnover    0.003786\n",
      "14                              Tax rate (A)    0.002210\n",
      "84                     Liability-Assets Flag    0.000000\n",
      "93                           Net Income Flag    0.000000\n",
      "\n",
      "[95 rows x 2 columns]\n"
     ]
    }
   ],
   "source": [
    "feature_importances = rf_classifier.feature_importances_\n",
    "\n",
    "feature_names = X.columns\n",
    "\n",
    "feature_importance_df = pd.DataFrame({'Feature': feature_names, 'Importance': feature_importances})\n",
    "\n",
    "feature_importance_df = feature_importance_df.sort_values(by='Importance', ascending=False)\n",
    "\n",
    "print(feature_importance_df)"
   ]
  },
  {
   "cell_type": "markdown",
   "metadata": {},
   "source": [
    "On average, what do you think is the tradeoff between model fitting time and model performance?  (3 points) \n",
    "\n",
    "In my mind, the main tradeoff is practicality. A longer run time model in theory should perform better but in applications were classifications are time sensitive it would likely make sense to chose the faster model, even if it performs slightly slower. In terms of a classification problem like diagnosing a patient with cancer, the slower model is likely optimal as that choice should not be rushed and model performance is more important."
   ]
  },
  {
   "cell_type": "markdown",
   "metadata": {},
   "source": [
    "Fit the model on the training set using the default parameters and report your findings.(5 points) "
   ]
  },
  {
   "cell_type": "code",
   "execution_count": 23,
   "metadata": {},
   "outputs": [],
   "source": [
    "# SVM!\n",
    "svm_classifier = SVC()"
   ]
  },
  {
   "cell_type": "code",
   "execution_count": 24,
   "metadata": {},
   "outputs": [
    {
     "name": "stdout",
     "output_type": "stream",
     "text": [
      "CPU times: user 855 ms, sys: 17.9 ms, total: 872 ms\n",
      "Wall time: 891 ms\n"
     ]
    },
    {
     "data": {
      "text/plain": [
       "SVC()"
      ]
     },
     "execution_count": 24,
     "metadata": {},
     "output_type": "execute_result"
    }
   ],
   "source": [
    "%%time\n",
    "svm_classifier.fit(X_train, y_train)"
   ]
  },
  {
   "cell_type": "code",
   "execution_count": 25,
   "metadata": {},
   "outputs": [
    {
     "name": "stdout",
     "output_type": "stream",
     "text": [
      "              precision    recall  f1-score   support\n",
      "\n",
      "           0       0.96      1.00      0.98      1313\n",
      "           1       1.00      0.00      0.00        51\n",
      "\n",
      "    accuracy                           0.96      1364\n",
      "   macro avg       0.98      0.50      0.49      1364\n",
      "weighted avg       0.96      0.96      0.94      1364\n",
      "\n"
     ]
    }
   ],
   "source": [
    "y_pred = svm_classifier.predict(X_test)\n",
    "\n",
    "accuracy = accuracy_score(y_test, y_pred)\n",
    "report = classification_report(y_test, y_pred, zero_division=1)  # Set zero_division to 1 or 'warn'\n",
    "\n",
    "print(report)"
   ]
  },
  {
   "cell_type": "code",
   "execution_count": 26,
   "metadata": {},
   "outputs": [],
   "source": [
    "# Create an SVM classifier with kernel = linear\n",
    "svm_classifier = SVC(kernel='linear')\n",
    "\n"
   ]
  },
  {
   "cell_type": "code",
   "execution_count": 27,
   "metadata": {},
   "outputs": [],
   "source": [
    "#%%time\n",
    "\n",
    "#svm_classifier.fit(X_train, y_train)"
   ]
  },
  {
   "cell_type": "markdown",
   "metadata": {},
   "source": [
    "Evaluate both models using any metrics of choice. (4 points) \n",
    "\n",
    "I tried running the linear model multiple times, once for about an hour and it didn't finish. The performance metrics of the rbf model wasn't great, especially for class = 1 (0 recall and 0 F1). However those reults are better in my opinion for a project like this than a model that takes forever to run. If this were for my job (Investor or financial regulator) to actually predict bankruptcy and the linear model had a better predictive ability than I would likely chose that model because the stakes would be much higher. In this exam application I would chose the default SVM.\n",
    "\n"
   ]
  },
  {
   "cell_type": "markdown",
   "metadata": {},
   "source": [
    "How long does it take to fit the SVM model in 1. above? How about 2. above? Report only the CPU times (1 point) \n",
    "\n",
    "The CPU time was 861 ms for the default SVM. The run time was too long and unkown for the linear kernel SVM."
   ]
  },
  {
   "cell_type": "markdown",
   "metadata": {},
   "source": [
    "Fit the Random Forest and the SVM on the undersampled data and compare the fitting times for both models? Which model takes longer to fit? (5 points) "
   ]
  },
  {
   "cell_type": "code",
   "execution_count": 28,
   "metadata": {},
   "outputs": [],
   "source": [
    "y2 = underSample.Bankrupt\n",
    "\n",
    "X2 = underSample.loc[:, underSample.columns != \"Bankrupt\"]\n",
    "\n",
    "X2_train, X2_test, y2_train, y2_test = train_test_split(X2, y2, test_size=0.2, random_state=42)"
   ]
  },
  {
   "cell_type": "code",
   "execution_count": 29,
   "metadata": {},
   "outputs": [],
   "source": [
    "\n",
    "start_time_default = time.process_time()\n",
    "\n",
    "rf_classifier = RandomForestClassifier()\n"
   ]
  },
  {
   "cell_type": "code",
   "execution_count": 30,
   "metadata": {},
   "outputs": [
    {
     "name": "stdout",
     "output_type": "stream",
     "text": [
      "CPU times: user 291 ms, sys: 2.46 ms, total: 294 ms\n",
      "Wall time: 298 ms\n"
     ]
    },
    {
     "data": {
      "text/plain": [
       "RandomForestClassifier()"
      ]
     },
     "execution_count": 30,
     "metadata": {},
     "output_type": "execute_result"
    }
   ],
   "source": [
    "%%time\n",
    "rf_classifier.fit(X2_train, y2_train)"
   ]
  },
  {
   "cell_type": "code",
   "execution_count": 31,
   "metadata": {},
   "outputs": [
    {
     "name": "stdout",
     "output_type": "stream",
     "text": [
      "              precision    recall  f1-score   support\n",
      "\n",
      "           0       0.96      0.88      0.92        51\n",
      "           1       0.85      0.95      0.90        37\n",
      "\n",
      "    accuracy                           0.91        88\n",
      "   macro avg       0.91      0.91      0.91        88\n",
      "weighted avg       0.91      0.91      0.91        88\n",
      "\n"
     ]
    }
   ],
   "source": [
    "y2_pred = rf_classifier.predict(X2_test)\n",
    "\n",
    "end_time_default = time.process_time()\n",
    "cpu_time_default = end_time_default - start_time_default\n",
    "\n",
    "\n",
    "\n",
    "rfreport = classification_report(y2_test, y2_pred)\n",
    "print(rfreport)"
   ]
  },
  {
   "cell_type": "code",
   "execution_count": 32,
   "metadata": {},
   "outputs": [],
   "source": [
    "svm_classifier = SVC()"
   ]
  },
  {
   "cell_type": "code",
   "execution_count": 33,
   "metadata": {},
   "outputs": [
    {
     "name": "stdout",
     "output_type": "stream",
     "text": [
      "CPU times: user 18 ms, sys: 1.01 ms, total: 19 ms\n",
      "Wall time: 19.1 ms\n"
     ]
    },
    {
     "data": {
      "text/plain": [
       "SVC()"
      ]
     },
     "execution_count": 33,
     "metadata": {},
     "output_type": "execute_result"
    }
   ],
   "source": [
    "%%time\n",
    "svm_classifier.fit(X2_train, y2_train)"
   ]
  },
  {
   "cell_type": "code",
   "execution_count": 34,
   "metadata": {},
   "outputs": [
    {
     "name": "stdout",
     "output_type": "stream",
     "text": [
      "              precision    recall  f1-score   support\n",
      "\n",
      "           0       0.76      0.55      0.64        51\n",
      "           1       0.55      0.76      0.64        37\n",
      "\n",
      "    accuracy                           0.64        88\n",
      "   macro avg       0.65      0.65      0.64        88\n",
      "weighted avg       0.67      0.64      0.64        88\n",
      "\n"
     ]
    }
   ],
   "source": [
    "y2_pred = svm_classifier.predict(X2_test)\n",
    "\n",
    "\n",
    "report = classification_report(y2_test, y2_pred, zero_division=1)  # Set zero_division to 1 or 'warn'\n",
    "print(report)"
   ]
  },
  {
   "cell_type": "markdown",
   "metadata": {},
   "source": [
    "Compare the performance of both models on any metrics of choice. (5 points) \n",
    "\n",
    "Based on precision, recall, f1-score, and accuracy, the random forest classifier with default parameters outperformed the SVM with default parameters. The random forest was better in every perfromance metric I listed above which was interesting to see. It seems that balancing the classes had a much greater performance impact on the random forest model. The only metric the SVM was better in was CPU time (20.9ms vs 300ms). A significantly quicker model, based on the context of this exam I would chose the random forest but if for whatever reason I only wanted the faster model I would chose the SVM as it still did better than random quessing, it wasn't awful."
   ]
  }
 ],
 "metadata": {
  "kernelspec": {
   "display_name": "Python 3",
   "language": "python",
   "name": "python3"
  },
  "language_info": {
   "codemirror_mode": {
    "name": "ipython",
    "version": 3
   },
   "file_extension": ".py",
   "mimetype": "text/x-python",
   "name": "python",
   "nbconvert_exporter": "python",
   "pygments_lexer": "ipython3",
   "version": "3.7.6"
  }
 },
 "nbformat": 4,
 "nbformat_minor": 4
}
